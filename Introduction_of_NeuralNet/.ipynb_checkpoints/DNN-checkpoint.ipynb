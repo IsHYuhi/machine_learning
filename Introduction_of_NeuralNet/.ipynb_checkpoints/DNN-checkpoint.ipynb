{
 "cells": [
  {
   "cell_type": "markdown",
   "metadata": {},
   "source": [
    "# プレーンなTensorFlowを使ったDNNの訓練"
   ]
  },
  {
   "cell_type": "code",
   "execution_count": 62,
   "metadata": {},
   "outputs": [],
   "source": [
    "import tensorflow as tf\n",
    "import numpy as np\n",
    "n_inputs =28*28\n",
    "n_hidden1 = 300\n",
    "n_hidden2 = 100\n",
    "n_outputs = 10"
   ]
  },
  {
   "cell_type": "code",
   "execution_count": 63,
   "metadata": {},
   "outputs": [],
   "source": [
    "X = tf.placeholder(tf.float32, shape = (None, n_inputs), name = \"X\")\n",
    "y = tf.placeholder(tf.int64, shape = (None), name=\"y\")"
   ]
  },
  {
   "cell_type": "code",
   "execution_count": 64,
   "metadata": {},
   "outputs": [],
   "source": [
    "def neuron_layer(X, n_neurons, name, activation=None):\n",
    "    with tf.name_scope(name):\n",
    "        n_inputs = int(X.get_shape()[1])#サイズを調べている[0]だとインスタンス数\n",
    "        stddev = 2/np.sqrt(n_inputs + n_neurons) # 切断正規分布\n",
    "        init = tf.truncated_normal((n_inputs, n_neurons), stddev=stddev)\n",
    "        W = tf.Variable(init, name=\"kernel\")\n",
    "        b = tf.Variable(tf.zeros([n_neurons]), name=\"bias\")\n",
    "        Z = tf. matmul(X, W) + b\n",
    "        if activation is not None:\n",
    "            return activation(Z)\n",
    "        else:\n",
    "            return Z"
   ]
  },
  {
   "cell_type": "code",
   "execution_count": 65,
   "metadata": {},
   "outputs": [],
   "source": [
    "with tf.name_scope(\"dnn\"):\n",
    "    hidden1 = neuron_layer(X, n_hidden1, name=\"hidden1\", activation=tf.nn.relu)\n",
    "    \n",
    "    hidden2 = neuron_layer(hidden1, n_hidden2, name=\"hidden2\", activation=tf.nn.relu)\n",
    "    \n",
    "    logits = neuron_layer(hidden2, n_outputs, name=\"outputs\") # ソフトマックス活性化関数に通す前の出力"
   ]
  },
  {
   "cell_type": "markdown",
   "metadata": {},
   "source": [
    "今回は関数を自作したが、このようにdense()を使ってできる。\n",
    "```\n",
    "with tf.name_scope(\"dnn\"):\n",
    "    hidden1 = tf.layers.dense(X, n_hidden1, name=\"hidden1\", activation=tf.nn.relu)\n",
    "    \n",
    "    hidden2 = tf.layers.dense(hidden1, n_hidden2, name=\"hidden2\", activation=tf.nn.relu)\n",
    "    \n",
    "    logits = tf.layers.dense(hidden2, n_outputs, name=\"outputs\")\n",
    "```"
   ]
  },
  {
   "cell_type": "code",
   "execution_count": 66,
   "metadata": {},
   "outputs": [],
   "source": [
    "with tf.name_scope(\"loss\"):\n",
    "    xentropy = tf.nn.sparse_softmax_cross_entropy_with_logits(labels = y, logits=logits)\n",
    "    #各インスタンスの交差エントロピーが収められた一次元のテンソル\n",
    "    loss = tf.reduce_mean(xentropy, name=\"loss\")"
   ]
  },
  {
   "cell_type": "code",
   "execution_count": 67,
   "metadata": {},
   "outputs": [],
   "source": [
    "learning_rate = 0.01\n",
    "\n",
    "with tf.name_scope(\"train\"):\n",
    "    optimizer = tf.train.GradientDescentOptimizer(learning_rate)\n",
    "    training_op = optimizer.minimize(loss)"
   ]
  },
  {
   "cell_type": "code",
   "execution_count": 68,
   "metadata": {},
   "outputs": [],
   "source": [
    "with tf.name_scope(\"eval\"):\n",
    "    correct = tf.nn.in_top_k(logits, y, 1)#論理値を集めた一次元テンソルを返す。\n",
    "    accuracy = tf.reduce_mean(tf.cast(correct, tf.float32))#それを浮動小数点にキャストして平均を計算する"
   ]
  },
  {
   "cell_type": "code",
   "execution_count": 69,
   "metadata": {},
   "outputs": [],
   "source": [
    "init = tf.global_variables_initializer()\n",
    "saver = tf.train.Saver()#var_list={\"W\":W, \"b\":b, \"W_1\":W_1, \"b_1\":b_1, \"W_2\":W_2, \"b_2\":b_2}はできなかった"
   ]
  },
  {
   "cell_type": "markdown",
   "metadata": {},
   "source": [
    "### 実行フェーズ"
   ]
  },
  {
   "cell_type": "code",
   "execution_count": 76,
   "metadata": {},
   "outputs": [
    {
     "name": "stdout",
     "output_type": "stream",
     "text": [
      "Extracting /tmp/data/train-images-idx3-ubyte.gz\n",
      "Extracting /tmp/data/train-labels-idx1-ubyte.gz\n",
      "Extracting /tmp/data/t10k-images-idx3-ubyte.gz\n",
      "Extracting /tmp/data/t10k-labels-idx1-ubyte.gz\n"
     ]
    }
   ],
   "source": [
    "from tensorflow.examples.tutorials.mnist import input_data\n",
    "mnist = input_data.read_data_sets(\"/tmp/data/\")\n",
    "\n",
    "#ここではテスト用にしか使っていない\n",
    "(X_train, y_train), (X_test, y_test) = tf.keras.datasets.mnist.load_data()\n",
    "X_train = X_train.astype(np.float32).reshape(-1, 28*28) / 255.0\n",
    "X_test = X_test.astype(np.float32).reshape(-1, 28*28) / 255.0\n",
    "y_train = y_train.astype(np.int32)\n",
    "y_test = y_test.astype(np.int32)\n",
    "X_valid, X_train = X_train[:5000], X_train[5000:]\n",
    "y_valid, y_train = y_train[:5000], y_train[5000:]"
   ]
  },
  {
   "cell_type": "markdown",
   "metadata": {},
   "source": [
    "from datetime import datetime\n",
    "now = datetime.utcnow().strftime(\"%Y%m%d%H%M%S\")\n",
    "root_logdir = \"tf_logs\"\n",
    "logdir = \"{}/run-{}/\".format(root_logdir, now)"
   ]
  },
  {
   "cell_type": "markdown",
   "metadata": {},
   "source": [
    "acc_summary = tf.summary.scalar('Accuracy', accuracy)\n",
    "file_writer = tf.summary.FileWriter(logdir, tf.get_default_graph())"
   ]
  },
  {
   "cell_type": "code",
   "execution_count": 71,
   "metadata": {},
   "outputs": [
    {
     "name": "stdout",
     "output_type": "stream",
     "text": [
      "0 Train accuracy: 0.86 Val accuracy: 0.9138\n",
      "1 Train accuracy: 0.92 Val accuracy: 0.928\n",
      "2 Train accuracy: 0.94 Val accuracy: 0.9404\n",
      "3 Train accuracy: 0.94 Val accuracy: 0.9454\n",
      "4 Train accuracy: 0.98 Val accuracy: 0.951\n",
      "5 Train accuracy: 0.96 Val accuracy: 0.9532\n",
      "6 Train accuracy: 0.98 Val accuracy: 0.9574\n",
      "7 Train accuracy: 0.96 Val accuracy: 0.9618\n",
      "8 Train accuracy: 0.92 Val accuracy: 0.9622\n",
      "9 Train accuracy: 1.0 Val accuracy: 0.963\n",
      "10 Train accuracy: 0.96 Val accuracy: 0.9642\n",
      "11 Train accuracy: 1.0 Val accuracy: 0.9664\n",
      "12 Train accuracy: 0.98 Val accuracy: 0.966\n",
      "13 Train accuracy: 1.0 Val accuracy: 0.968\n",
      "14 Train accuracy: 0.98 Val accuracy: 0.9694\n",
      "15 Train accuracy: 0.98 Val accuracy: 0.9702\n",
      "16 Train accuracy: 0.98 Val accuracy: 0.9712\n",
      "17 Train accuracy: 0.98 Val accuracy: 0.9708\n",
      "18 Train accuracy: 1.0 Val accuracy: 0.9726\n",
      "19 Train accuracy: 1.0 Val accuracy: 0.9732\n",
      "20 Train accuracy: 0.98 Val accuracy: 0.9724\n",
      "21 Train accuracy: 0.98 Val accuracy: 0.9734\n",
      "22 Train accuracy: 1.0 Val accuracy: 0.9746\n",
      "23 Train accuracy: 1.0 Val accuracy: 0.9762\n",
      "24 Train accuracy: 0.98 Val accuracy: 0.9746\n",
      "25 Train accuracy: 1.0 Val accuracy: 0.9758\n",
      "26 Train accuracy: 1.0 Val accuracy: 0.975\n",
      "27 Train accuracy: 0.98 Val accuracy: 0.9758\n",
      "28 Train accuracy: 0.98 Val accuracy: 0.9752\n",
      "29 Train accuracy: 0.98 Val accuracy: 0.9756\n",
      "30 Train accuracy: 1.0 Val accuracy: 0.9768\n",
      "31 Train accuracy: 0.98 Val accuracy: 0.9768\n",
      "32 Train accuracy: 0.96 Val accuracy: 0.9766\n",
      "33 Train accuracy: 1.0 Val accuracy: 0.9772\n",
      "34 Train accuracy: 0.96 Val accuracy: 0.978\n",
      "35 Train accuracy: 1.0 Val accuracy: 0.9778\n",
      "36 Train accuracy: 1.0 Val accuracy: 0.9778\n",
      "37 Train accuracy: 1.0 Val accuracy: 0.9778\n",
      "38 Train accuracy: 0.98 Val accuracy: 0.9774\n",
      "39 Train accuracy: 1.0 Val accuracy: 0.978\n"
     ]
    }
   ],
   "source": [
    "n_epochs = 40\n",
    "batch_size = 50\n",
    "\n",
    "with tf.Session() as sess:\n",
    "    init.run()\n",
    "    for epoch in range(n_epochs):\n",
    "        for iteration in range(mnist.train.num_examples // batch_size):\n",
    "            X_batch, y_batch = mnist.train.next_batch(batch_size)\n",
    "            sess.run(training_op, feed_dict = {X: X_batch, y: y_batch})\n",
    "        acc_train = accuracy.eval(feed_dict = {X: X_batch, y: y_batch})\n",
    "        acc_val = accuracy.eval(feed_dict = {X: mnist.validation.images, y: mnist.validation.labels})\n",
    "        print(epoch, \"Train accuracy:\", acc_train, \"Val accuracy:\", acc_val)\n",
    "    save_path = saver.save(sess, \"./my_model_final.ckpt\")"
   ]
  },
  {
   "cell_type": "code",
   "execution_count": 81,
   "metadata": {},
   "outputs": [
    {
     "name": "stdout",
     "output_type": "stream",
     "text": [
      "INFO:tensorflow:Restoring parameters from ./my_model_final.ckpt\n"
     ]
    }
   ],
   "source": [
    "with tf.Session() as sess:\n",
    "    saver.restore(sess, \"./my_model_final.ckpt\")\n",
    "    X_new_scaled =X_test[:20]\n",
    "    Z = logits.eval(feed_dict={X:X_new_scaled})\n",
    "    y_pred = np.argmax(Z, axis=1)"
   ]
  },
  {
   "cell_type": "code",
   "execution_count": 85,
   "metadata": {},
   "outputs": [
    {
     "name": "stdout",
     "output_type": "stream",
     "text": [
      "[7 2 1 0 4 1 4 9 5 9 0 6 9 0 1 5 9 7 3 4]\n"
     ]
    }
   ],
   "source": [
    "print(y_pred)"
   ]
  },
  {
   "cell_type": "code",
   "execution_count": 84,
   "metadata": {},
   "outputs": [
    {
     "name": "stdout",
     "output_type": "stream",
     "text": [
      "[7 2 1 0 4 1 4 9 5 9 0 6 9 0 1 5 9 7 3 4]\n"
     ]
    }
   ],
   "source": [
    "print(y_test[:20])"
   ]
  }
 ],
 "metadata": {
  "kernelspec": {
   "display_name": "Python 3",
   "language": "python",
   "name": "python3"
  },
  "language_info": {
   "codemirror_mode": {
    "name": "ipython",
    "version": 3
   },
   "file_extension": ".py",
   "mimetype": "text/x-python",
   "name": "python",
   "nbconvert_exporter": "python",
   "pygments_lexer": "ipython3",
   "version": "3.6.5"
  }
 },
 "nbformat": 4,
 "nbformat_minor": 2
}
